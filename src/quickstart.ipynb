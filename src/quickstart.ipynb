{
 "cells": [
  {
   "cell_type": "markdown",
   "metadata": {},
   "source": [
    "# Concentration to RDF neural network"
   ]
  },
  {
   "cell_type": "markdown",
   "metadata": {},
   "source": [
    "The neural network will be trained on data from the directory \"./training_data\"."
   ]
  },
  {
   "cell_type": "markdown",
   "metadata": {},
   "source": [
    "To run a simple training execute the following command:"
   ]
  },
  {
   "cell_type": "code",
   "execution_count": 18,
   "metadata": {},
   "outputs": [],
   "source": [
    "#!python main.py -i"
   ]
  },
  {
   "cell_type": "markdown",
   "metadata": {},
   "source": [
    "\"-i\" without further arguments will tell the program to use the default parameters from \"./src/conc2RDF/default_config.toml\" including the path to the dataset. As an alternative, you can also write your own config.toml in the synthax of the default one."
   ]
  },
  {
   "cell_type": "code",
   "execution_count": 19,
   "metadata": {},
   "outputs": [
    {
     "name": "stdout",
     "output_type": "stream",
     "text": [
      "/home/julius/miniconda3/lib/python3.12/site-packages/torch/cuda/__init__.py:128: UserWarning: CUDA initialization: CUDA unknown error - this may be due to an incorrectly set up environment, e.g. changing env variable CUDA_VISIBLE_DEVICES after program start. Setting the available devices to be zero. (Triggered internally at ../c10/cuda/CUDAFunctions.cpp:108.)\n",
      "  return torch._C._cuda_getDeviceCount() > 0\n",
      "/home/julius/miniconda3/lib/python3.12/site-packages/torch/optim/lr_scheduler.py:60: UserWarning: The verbose parameter is deprecated. Please use get_last_lr() to access the learning rate.\n",
      "  warnings.warn(\n",
      "Epoch [2500/2500], Loss: 0.021181, Val Loss: 0.038516, lr: 9.765625e-06: 100%|█|\n",
      "Validation Loss for run 1: 3.85e-02\n",
      "Epoch [2500/2500], Loss: 0.064275, Val Loss: 0.119739, lr: 1.907349e-08: 100%|█|\n",
      "Validation Loss for run 2: 1.20e-01\n",
      "Epoch [2500/2500], Loss: 0.000250, Val Loss: 0.005709, lr: 1.907349e-08: 100%|█|\n",
      "Validation Loss for run 3: 5.71e-03\n",
      "Epoch [2500/2500], Loss: 0.000489, Val Loss: 0.008470, lr: 1.907349e-08: 100%|█|\n",
      "Validation Loss for run 4: 8.47e-03\n",
      "Epoch [2500/2500], Loss: 0.000130, Val Loss: 0.003090, lr: 1.953125e-05: 100%|█|\n",
      "Validation Loss for run 5: 3.09e-03\n",
      "Epoch [2500/2500], Loss: 0.064276, Val Loss: 0.119858, lr: 1.907349e-08: 100%|█|\n",
      "Validation Loss for run 6: 1.20e-01\n",
      "Epoch [2500/2500], Loss: 0.023203, Val Loss: 0.042953, lr: 1.562500e-04: 100%|█|\n",
      "Validation Loss for run 7: 4.30e-02\n",
      "Epoch [2500/2500], Loss: 0.000488, Val Loss: 0.005528, lr: 1.562500e-04: 100%|█|\n",
      "Validation Loss for run 8: 5.53e-03\n",
      "Epoch [2500/2500], Loss: 0.064330, Val Loss: 0.119113, lr: 1.907349e-08: 100%|█|\n",
      "Validation Loss for run 9: 1.19e-01\n",
      "Epoch [2500/2500], Loss: 0.064265, Val Loss: 0.120210, lr: 1.907349e-08: 100%|█|\n",
      "Validation Loss for run 10: 1.20e-01\n",
      "Epoch [2500/2500], Loss: 0.003419, Val Loss: 0.011176, lr: 1.562500e-04: 100%|█|\n",
      "Validation Loss for run 11: 1.12e-02\n",
      "Epoch [2500/2500], Loss: 0.000259, Val Loss: 0.005462, lr: 1.907349e-08: 100%|█|\n",
      "Validation Loss for run 12: 5.46e-03\n",
      "Epoch [2500/2500], Loss: 0.000502, Val Loss: 0.004615, lr: 4.882813e-06: 100%|█|\n",
      "Validation Loss for run 13: 4.62e-03\n",
      "Epoch [2500/2500], Loss: 0.000111, Val Loss: 0.003174, lr: 1.562500e-04: 100%|█|\n",
      "Validation Loss for run 14: 3.17e-03\n",
      "Epoch [2500/2500], Loss: 0.000663, Val Loss: 0.006239, lr: 3.125000e-04: 100%|█|\n",
      "Validation Loss for run 15: 6.24e-03\n",
      "Epoch [2500/2500], Loss: 0.000268, Val Loss: 0.005750, lr: 1.907349e-08: 100%|█|\n",
      "Validation Loss for run 16: 5.75e-03\n",
      "Epoch [2500/2500], Loss: 0.013820, Val Loss: 0.028777, lr: 3.125000e-04: 100%|█|\n",
      "Validation Loss for run 17: 2.88e-02\n",
      "Epoch [2500/2500], Loss: 0.064266, Val Loss: 0.120168, lr: 1.907349e-08: 100%|█|\n",
      "Validation Loss for run 18: 1.20e-01\n",
      "Epoch [2500/2500], Loss: 0.064275, Val Loss: 0.119836, lr: 1.907349e-08: 100%|█|\n",
      "Validation Loss for run 19: 1.20e-01\n",
      "Epoch [2500/2500], Loss: 0.000277, Val Loss: 0.005606, lr: 7.629395e-08: 100%|█|\n",
      "Validation Loss for run 20: 5.61e-03\n",
      "Best validation loss: 3.09e-03\n"
     ]
    }
   ],
   "source": [
    "!python main.py -i conc2RDF/test.toml"
   ]
  },
  {
   "cell_type": "markdown",
   "metadata": {},
   "source": [
    "The custom configuration must be in a subdirectory of src/. For every parameter that is not explicitly given in your custom config.toml the respective value from the default_config.toml will be used."
   ]
  },
  {
   "cell_type": "markdown",
   "metadata": {},
   "source": [
    "## Analyze the model"
   ]
  },
  {
   "cell_type": "markdown",
   "metadata": {},
   "source": [
    "After running the program the model with the best loss is saved as \"model.pth\" and can be further analyzed. To see the evolution of training and validation-loss execute the following:"
   ]
  },
  {
   "cell_type": "code",
   "execution_count": 20,
   "metadata": {},
   "outputs": [],
   "source": [
    "!python main.py -ad"
   ]
  },
  {
   "cell_type": "markdown",
   "metadata": {},
   "source": [
    "This will save the respecive .png. To see the predicitions made by the network run"
   ]
  },
  {
   "cell_type": "code",
   "execution_count": 21,
   "metadata": {},
   "outputs": [],
   "source": [
    "!python main.py -ap ../training_data"
   ]
  },
  {
   "cell_type": "markdown",
   "metadata": {},
   "source": [
    "(\"path/to/training_data\" after -ad flag). To see the MSE and MAE for the different concentrations run"
   ]
  },
  {
   "cell_type": "code",
   "execution_count": 22,
   "metadata": {},
   "outputs": [],
   "source": [
    "!python main.py -ae ../training_data"
   ]
  }
 ],
 "metadata": {
  "kernelspec": {
   "display_name": "base",
   "language": "python",
   "name": "python3"
  },
  "language_info": {
   "codemirror_mode": {
    "name": "ipython",
    "version": 3
   },
   "file_extension": ".py",
   "mimetype": "text/x-python",
   "name": "python",
   "nbconvert_exporter": "python",
   "pygments_lexer": "ipython3",
   "version": "3.12.4"
  }
 },
 "nbformat": 4,
 "nbformat_minor": 2
}
